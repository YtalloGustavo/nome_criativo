{
 "cells": [
  {
   "cell_type": "markdown",
   "id": "47093217",
   "metadata": {},
   "source": [
    "# Meu querido notebook\n"
   ]
  },
  {
   "cell_type": "markdown",
   "id": "58d3a839",
   "metadata": {},
   "source": [
    "Estou fazendo um notebook, mas meu professor disse para não usar\n"
   ]
  },
  {
   "cell_type": "code",
   "execution_count": 1,
   "id": "bbce9dee",
   "metadata": {},
   "outputs": [
    {
     "name": "stdout",
     "output_type": "stream",
     "text": [
      "Olá Mundo\n"
     ]
    }
   ],
   "source": [
    "print(\"Olá Mundo\")"
   ]
  },
  {
   "cell_type": "markdown",
   "id": "92cb5855",
   "metadata": {},
   "source": [
    "## Meu primeiro código python"
   ]
  }
 ],
 "metadata": {
  "kernelspec": {
   "display_name": "Python 3",
   "language": "python",
   "name": "python3"
  },
  "language_info": {
   "codemirror_mode": {
    "name": "ipython",
    "version": 3
   },
   "file_extension": ".py",
   "mimetype": "text/x-python",
   "name": "python",
   "nbconvert_exporter": "python",
   "pygments_lexer": "ipython3",
   "version": "3.12.1"
  }
 },
 "nbformat": 4,
 "nbformat_minor": 5
}
